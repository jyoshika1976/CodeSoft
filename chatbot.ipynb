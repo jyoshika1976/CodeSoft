{
  "nbformat": 4,
  "nbformat_minor": 0,
  "metadata": {
    "colab": {
      "provenance": [],
      "authorship_tag": "ABX9TyOH1dNUaw7w24UdHNFOvf2n",
      "include_colab_link": true
    },
    "kernelspec": {
      "name": "python3",
      "display_name": "Python 3"
    },
    "language_info": {
      "name": "python"
    }
  },
  "cells": [
    {
      "cell_type": "markdown",
      "metadata": {
        "id": "view-in-github",
        "colab_type": "text"
      },
      "source": [
        "<a href=\"https://colab.research.google.com/github/jyoshika1976/CodeSoft/blob/main/chatbot.ipynb\" target=\"_parent\"><img src=\"https://colab.research.google.com/assets/colab-badge.svg\" alt=\"Open In Colab\"/></a>"
      ]
    },
    {
      "cell_type": "code",
      "execution_count": null,
      "metadata": {
        "id": "oTDcglffEOO3",
        "outputId": "08a23c5f-3e74-4bc6-ef20-077e901e511c",
        "colab": {
          "base_uri": "https://localhost:8080/"
        }
      },
      "outputs": [
        {
          "metadata": {
            "tags": null
          },
          "name": "stdout",
          "output_type": "stream",
          "text": [
            "Hello! I'm a simple chatbot. How can I help you today?\n",
            "Chatbot: Hello! How can I assist you?\n",
            "Chatbot: I'm just a bunch of code, but thanks for asking! How can I help you?\n"
          ]
        }
      ],
      "source": [
        "def simple_chatbot():\n",
        "    print(\"Hello! I'm a simple chatbot. How can I help you today?\")\n",
        "\n",
        "    while True:\n",
        "        user_input = input(\"You: \").lower()\n",
        "\n",
        "        if 'hello' in user_input or 'hi' in user_input:\n",
        "            print(\"Chatbot: Hello! How can I assist you?\")\n",
        "\n",
        "        elif 'how are you' in user_input:\n",
        "            print(\"Chatbot: I'm just a bunch of code, but thanks for asking! How can I help you?\")\n",
        "\n",
        "        elif 'what is your name' in user_input:\n",
        "            print(\"Chatbot: I'm a simple chatbot created to help you. You can call me Chatbot!\")\n",
        "\n",
        "        elif 'help' in user_input:\n",
        "            print(\"Chatbot: Sure! What do you need help with?\")\n",
        "\n",
        "        elif 'bye' in user_input or 'exit' in user_input:\n",
        "            print(\"Chatbot: Goodbye! Have a great day!\")\n",
        "            break\n",
        "\n",
        "        else:\n",
        "            print(\"Chatbot: I'm sorry, I didn't understand that. Can you please rephrase?\")\n",
        "\n",
        "# Run the chatbot\n",
        "simple_chatbot()\n"
      ]
    }
  ]
}