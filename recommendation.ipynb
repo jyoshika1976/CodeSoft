{
  "nbformat": 4,
  "nbformat_minor": 0,
  "metadata": {
    "colab": {
      "provenance": [],
      "authorship_tag": "ABX9TyNvRoLkNS/0IoNT/OL/VRv1",
      "include_colab_link": true
    },
    "kernelspec": {
      "name": "python3",
      "display_name": "Python 3"
    },
    "language_info": {
      "name": "python"
    }
  },
  "cells": [
    {
      "cell_type": "markdown",
      "metadata": {
        "id": "view-in-github",
        "colab_type": "text"
      },
      "source": [
        "<a href=\"https://colab.research.google.com/github/jyoshika1976/CodeSoft/blob/main/recommendation.ipynb\" target=\"_parent\"><img src=\"https://colab.research.google.com/assets/colab-badge.svg\" alt=\"Open In Colab\"/></a>"
      ]
    },
    {
      "cell_type": "code",
      "execution_count": null,
      "metadata": {
        "colab": {
          "base_uri": "https://localhost:8080/"
        },
        "id": "jyEdaz2KnGmI",
        "outputId": "bb061865-eea4-4530-8c81-8fbfdd041af7"
      },
      "outputs": [
        {
          "output_type": "stream",
          "name": "stdout",
          "text": [
            "Requirement already satisfied: pandas in /usr/local/lib/python3.10/dist-packages (2.2.2)\n",
            "Requirement already satisfied: scikit-learn in /usr/local/lib/python3.10/dist-packages (1.5.2)\n",
            "Requirement already satisfied: numpy>=1.22.4 in /usr/local/lib/python3.10/dist-packages (from pandas) (1.26.4)\n",
            "Requirement already satisfied: python-dateutil>=2.8.2 in /usr/local/lib/python3.10/dist-packages (from pandas) (2.8.2)\n",
            "Requirement already satisfied: pytz>=2020.1 in /usr/local/lib/python3.10/dist-packages (from pandas) (2024.2)\n",
            "Requirement already satisfied: tzdata>=2022.7 in /usr/local/lib/python3.10/dist-packages (from pandas) (2024.2)\n",
            "Requirement already satisfied: scipy>=1.6.0 in /usr/local/lib/python3.10/dist-packages (from scikit-learn) (1.13.1)\n",
            "Requirement already satisfied: joblib>=1.2.0 in /usr/local/lib/python3.10/dist-packages (from scikit-learn) (1.4.2)\n",
            "Requirement already satisfied: threadpoolctl>=3.1.0 in /usr/local/lib/python3.10/dist-packages (from scikit-learn) (3.5.0)\n",
            "Requirement already satisfied: six>=1.5 in /usr/local/lib/python3.10/dist-packages (from python-dateutil>=2.8.2->pandas) (1.16.0)\n"
          ]
        }
      ],
      "source": [
        "pip install pandas scikit-learn\n"
      ]
    },
    {
      "cell_type": "code",
      "source": [
        "import pandas as pd\n",
        "from sklearn.metrics.pairwise import cosine_similarity\n",
        "import numpy as np\n",
        "\n",
        "# Sample dataset of users and their ratings for various movies\n",
        "data = {\n",
        "    'User': ['User1', 'User1', 'User1', 'User2', 'User2', 'User3', 'User3', 'User4', 'User4', 'User4'],\n",
        "    'Movie': ['Inception', 'Titanic', 'Avengers', 'Inception', 'Avatar', 'Titanic', 'Avatar', 'Inception', 'Titanic', 'Avengers'],\n",
        "    'Rating': [5, 4, 3, 4, 5, 3, 4, 2, 5, 4]\n",
        "}\n",
        "\n",
        "# Convert the data into a pandas DataFrame\n",
        "df = pd.DataFrame(data)\n",
        "\n",
        "# Create a pivot table with users as rows and movies as columns\n",
        "user_movie_matrix = df.pivot_table(index='User', columns='Movie', values='Rating')\n",
        "\n",
        "# Fill missing values with 0 (since the user hasn't rated the movie)\n",
        "user_movie_matrix.fillna(0, inplace=True)\n",
        "\n",
        "print(\"User-Movie Matrix:\\n\", user_movie_matrix)\n",
        "\n",
        "# Compute the similarity between users using cosine similarity\n",
        "user_similarity = cosine_similarity(user_movie_matrix)\n",
        "\n",
        "# Create a DataFrame to display similarity between users\n",
        "user_similarity_df = pd.DataFrame(user_similarity, index=user_movie_matrix.index, columns=user_movie_matrix.index)\n",
        "\n",
        "print(\"\\nUser Similarity Matrix:\\n\", user_similarity_df)\n",
        "\n",
        "def recommend_movies(user, user_movie_matrix, user_similarity_df):\n",
        "    \"\"\"\n",
        "    Recommend movies for a user based on ratings from similar users.\n",
        "    \"\"\"\n",
        "    # Find the most similar users to the given user\n",
        "    similar_users = user_similarity_df[user].sort_values(ascending=False).drop(user)\n",
        "\n",
        "    # Get the user's current ratings\n",
        "    user_ratings = user_movie_matrix.loc[user]\n",
        "\n",
        "    # Movies the user hasn't rated yet\n",
        "    unrated_movies = user_ratings[user_ratings == 0].index\n",
        "\n",
        "    # Dictionary to store movie recommendations with weighted ratings\n",
        "    recommendations = {}\n",
        "\n",
        "    # Loop through similar users\n",
        "    for similar_user, similarity in similar_users.items():# Changed line\n",
        "        # Get the similar user's ratings\n",
        "        similar_user_ratings = user_movie_matrix.loc[similar_user]\n",
        "\n",
        "        # Get movies that the similar user has rated and the target user hasn't\n",
        "        for movie in unrated_movies:\n",
        "            if similar_user_ratings[movie] > 0:\n",
        "                if movie not in recommendations:\n",
        "                    recommendations[movie] = 0\n",
        "                # Weighted score based on similarity\n",
        "                recommendations[movie] += similar_user_ratings[movie] * similarity\n",
        "\n",
        "    # Sort recommendations by weighted score\n",
        "    sorted_recommendations = sorted(recommendations.items(), key=lambda x: x[1], reverse=True)\n",
        "\n",
        "    return sorted_recommendations\n",
        "\n",
        "# Recommend movies for User1\n",
        "recommendations = recommend_movies('User1', user_movie_matrix, user_similarity_df)\n",
        "\n",
        "print(\"\\nRecommended Movies for User1:\")\n",
        "for movie, score in recommendations:\n",
        "    print(f\"{movie}: {score:.2f}\")\n"
      ],
      "metadata": {
        "colab": {
          "base_uri": "https://localhost:8080/"
        },
        "id": "0DWEQIaOna9F",
        "outputId": "267076b7-4485-496b-ce6f-40efe7c0471a"
      },
      "execution_count": null,
      "outputs": [
        {
          "output_type": "stream",
          "name": "stdout",
          "text": [
            "User-Movie Matrix:\n",
            " Movie  Avatar  Avengers  Inception  Titanic\n",
            "User                                       \n",
            "User1     0.0       3.0        5.0      4.0\n",
            "User2     5.0       0.0        4.0      0.0\n",
            "User3     4.0       0.0        0.0      3.0\n",
            "User4     0.0       4.0        2.0      5.0\n",
            "\n",
            "User Similarity Matrix:\n",
            " User      User1     User2     User3     User4\n",
            "User                                         \n",
            "User1  1.000000  0.441726  0.339411  0.885438\n",
            "User2  0.441726  1.000000  0.624695  0.186248\n",
            "User3  0.339411  0.624695  1.000000  0.447214\n",
            "User4  0.885438  0.186248  0.447214  1.000000\n",
            "\n",
            "Recommended Movies for User1:\n",
            "Avatar: 3.57\n"
          ]
        }
      ]
    }
  ]
}